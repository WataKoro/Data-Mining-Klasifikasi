{
 "cells": [
  {
   "cell_type": "code",
   "execution_count": 22,
   "id": "603e484d",
   "metadata": {},
   "outputs": [],
   "source": [
    "import pandas as pd\n",
    "\n",
    "#import library Scikit-learn\n",
    "from sklearn import preprocessing\n",
    "from sklearn.model_selection import train_test_split\n",
    "from sklearn.model_selection import cross_val_score\n",
    "from sklearn.metrics import classification_report, accuracy_score, make_scorer\n",
    "from sklearn.model_selection import cross_val_score\n",
    "from sklearn.metrics import confusion_matrix\n",
    "\n",
    "#import pickle\n",
    "import pickle\n",
    "\n",
    "#import library untuk masing-masing algoritma\n",
    "from sklearn.naive_bayes import GaussianNB\n",
    "\n",
    "from sklearn import tree\n",
    "\n",
    "from sklearn.ensemble import RandomForestClassifier\n",
    "\n",
    "import xgboost as xgb\n",
    "\n",
    "#import metrik yang dibutuhkan untuk cross validation\n",
    "from sklearn.metrics import classification_report\n",
    "from sklearn.metrics import accuracy_score"
   ]
  },
  {
   "cell_type": "markdown",
   "id": "154711aa",
   "metadata": {},
   "source": [
    "Read dataset train"
   ]
  },
  {
   "cell_type": "code",
   "execution_count": 2,
   "id": "d9edd3b4",
   "metadata": {},
   "outputs": [],
   "source": [
    "df = pd.read_csv(\"G:\\\\Datasets\\\\klasifikasi\\\\train.csv\", delimiter = \"|\")"
   ]
  },
  {
   "cell_type": "markdown",
   "id": "5a2fba92",
   "metadata": {},
   "source": [
    "# Tujuan"
   ]
  },
  {
   "cell_type": "markdown",
   "id": "ded3b18c",
   "metadata": {},
   "source": [
    "Memprediksi ada tidak nya transaksi fraud"
   ]
  },
  {
   "cell_type": "markdown",
   "id": "a447d774",
   "metadata": {},
   "source": [
    "# Eksplorasi Data"
   ]
  },
  {
   "cell_type": "markdown",
   "id": "c9a4095b",
   "metadata": {},
   "source": [
    "Memeriksa info dari dataset untuk mengidentifikasi adanya data NULL"
   ]
  },
  {
   "cell_type": "code",
   "execution_count": 3,
   "id": "c481f697",
   "metadata": {},
   "outputs": [
    {
     "name": "stdout",
     "output_type": "stream",
     "text": [
      "<class 'pandas.core.frame.DataFrame'>\n",
      "RangeIndex: 1879 entries, 0 to 1878\n",
      "Data columns (total 10 columns):\n",
      " #   Column                     Non-Null Count  Dtype  \n",
      "---  ------                     --------------  -----  \n",
      " 0   trustLevel                 1879 non-null   int64  \n",
      " 1   totalScanTimeInSeconds     1879 non-null   int64  \n",
      " 2   grandTotal                 1879 non-null   float64\n",
      " 3   lineItemVoids              1879 non-null   int64  \n",
      " 4   scansWithoutRegistration   1879 non-null   int64  \n",
      " 5   quantityModifications      1879 non-null   int64  \n",
      " 6   scannedLineItemsPerSecond  1879 non-null   float64\n",
      " 7   valuePerSecond             1879 non-null   float64\n",
      " 8   lineItemVoidsPerPosition   1879 non-null   float64\n",
      " 9   fraud                      1879 non-null   int64  \n",
      "dtypes: float64(4), int64(6)\n",
      "memory usage: 146.9 KB\n"
     ]
    },
    {
     "data": {
      "text/html": [
       "<div>\n",
       "<style scoped>\n",
       "    .dataframe tbody tr th:only-of-type {\n",
       "        vertical-align: middle;\n",
       "    }\n",
       "\n",
       "    .dataframe tbody tr th {\n",
       "        vertical-align: top;\n",
       "    }\n",
       "\n",
       "    .dataframe thead th {\n",
       "        text-align: right;\n",
       "    }\n",
       "</style>\n",
       "<table border=\"1\" class=\"dataframe\">\n",
       "  <thead>\n",
       "    <tr style=\"text-align: right;\">\n",
       "      <th></th>\n",
       "      <th>trustLevel</th>\n",
       "      <th>totalScanTimeInSeconds</th>\n",
       "      <th>grandTotal</th>\n",
       "      <th>lineItemVoids</th>\n",
       "      <th>scansWithoutRegistration</th>\n",
       "      <th>quantityModifications</th>\n",
       "      <th>scannedLineItemsPerSecond</th>\n",
       "      <th>valuePerSecond</th>\n",
       "      <th>lineItemVoidsPerPosition</th>\n",
       "      <th>fraud</th>\n",
       "    </tr>\n",
       "  </thead>\n",
       "  <tbody>\n",
       "    <tr>\n",
       "      <th>0</th>\n",
       "      <td>5</td>\n",
       "      <td>1054</td>\n",
       "      <td>54.70</td>\n",
       "      <td>7</td>\n",
       "      <td>0</td>\n",
       "      <td>3</td>\n",
       "      <td>0.027514</td>\n",
       "      <td>0.051898</td>\n",
       "      <td>0.241379</td>\n",
       "      <td>0</td>\n",
       "    </tr>\n",
       "    <tr>\n",
       "      <th>1</th>\n",
       "      <td>3</td>\n",
       "      <td>108</td>\n",
       "      <td>27.36</td>\n",
       "      <td>5</td>\n",
       "      <td>2</td>\n",
       "      <td>4</td>\n",
       "      <td>0.129630</td>\n",
       "      <td>0.253333</td>\n",
       "      <td>0.357143</td>\n",
       "      <td>0</td>\n",
       "    </tr>\n",
       "    <tr>\n",
       "      <th>2</th>\n",
       "      <td>3</td>\n",
       "      <td>1516</td>\n",
       "      <td>62.16</td>\n",
       "      <td>3</td>\n",
       "      <td>10</td>\n",
       "      <td>5</td>\n",
       "      <td>0.008575</td>\n",
       "      <td>0.041003</td>\n",
       "      <td>0.230769</td>\n",
       "      <td>0</td>\n",
       "    </tr>\n",
       "    <tr>\n",
       "      <th>3</th>\n",
       "      <td>6</td>\n",
       "      <td>1791</td>\n",
       "      <td>92.31</td>\n",
       "      <td>8</td>\n",
       "      <td>4</td>\n",
       "      <td>4</td>\n",
       "      <td>0.016192</td>\n",
       "      <td>0.051541</td>\n",
       "      <td>0.275862</td>\n",
       "      <td>0</td>\n",
       "    </tr>\n",
       "    <tr>\n",
       "      <th>4</th>\n",
       "      <td>5</td>\n",
       "      <td>430</td>\n",
       "      <td>81.53</td>\n",
       "      <td>3</td>\n",
       "      <td>7</td>\n",
       "      <td>2</td>\n",
       "      <td>0.062791</td>\n",
       "      <td>0.189605</td>\n",
       "      <td>0.111111</td>\n",
       "      <td>0</td>\n",
       "    </tr>\n",
       "  </tbody>\n",
       "</table>\n",
       "</div>"
      ],
      "text/plain": [
       "   trustLevel  totalScanTimeInSeconds  grandTotal  lineItemVoids  \\\n",
       "0           5                    1054       54.70              7   \n",
       "1           3                     108       27.36              5   \n",
       "2           3                    1516       62.16              3   \n",
       "3           6                    1791       92.31              8   \n",
       "4           5                     430       81.53              3   \n",
       "\n",
       "   scansWithoutRegistration  quantityModifications  scannedLineItemsPerSecond  \\\n",
       "0                         0                      3                   0.027514   \n",
       "1                         2                      4                   0.129630   \n",
       "2                        10                      5                   0.008575   \n",
       "3                         4                      4                   0.016192   \n",
       "4                         7                      2                   0.062791   \n",
       "\n",
       "   valuePerSecond  lineItemVoidsPerPosition  fraud  \n",
       "0        0.051898                  0.241379      0  \n",
       "1        0.253333                  0.357143      0  \n",
       "2        0.041003                  0.230769      0  \n",
       "3        0.051541                  0.275862      0  \n",
       "4        0.189605                  0.111111      0  "
      ]
     },
     "execution_count": 3,
     "metadata": {},
     "output_type": "execute_result"
    }
   ],
   "source": [
    "df.info()\n",
    "df.head()"
   ]
  },
  {
   "cell_type": "markdown",
   "id": "08260019",
   "metadata": {},
   "source": [
    "Setelah diperiksa ternyata tidak ada data null di dataset"
   ]
  },
  {
   "cell_type": "markdown",
   "id": "0011a2fe",
   "metadata": {},
   "source": [
    "Selain itu, kami menyimpulkan ahwa semua atribut yang ada relevan dengan tujuan prediksi. Oleh karena itu tidak ada atribut yang di drop."
   ]
  },
  {
   "cell_type": "code",
   "execution_count": null,
   "id": "e8fbfd7e",
   "metadata": {},
   "outputs": [],
   "source": []
  },
  {
   "cell_type": "code",
   "execution_count": 23,
   "id": "b2e3f28a",
   "metadata": {},
   "outputs": [
    {
     "data": {
      "text/plain": [
       "2    347\n",
       "1    332\n",
       "3    318\n",
       "5    302\n",
       "6    291\n",
       "4    289\n",
       "Name: trustLevel, dtype: int64"
      ]
     },
     "execution_count": 23,
     "metadata": {},
     "output_type": "execute_result"
    }
   ],
   "source": [
    "df.trustLevel.value_counts()"
   ]
  },
  {
   "cell_type": "code",
   "execution_count": 5,
   "id": "b69754a8",
   "metadata": {},
   "outputs": [],
   "source": [
    "dfFraud = df[df.fraud==1]"
   ]
  },
  {
   "cell_type": "code",
   "execution_count": 6,
   "id": "9daa6679",
   "metadata": {
    "scrolled": true
   },
   "outputs": [
    {
     "name": "stdout",
     "output_type": "stream",
     "text": [
      "<class 'pandas.core.frame.DataFrame'>\n",
      "Int64Index: 104 entries, 5 to 1875\n",
      "Data columns (total 10 columns):\n",
      " #   Column                     Non-Null Count  Dtype  \n",
      "---  ------                     --------------  -----  \n",
      " 0   trustLevel                 104 non-null    int64  \n",
      " 1   totalScanTimeInSeconds     104 non-null    int64  \n",
      " 2   grandTotal                 104 non-null    float64\n",
      " 3   lineItemVoids              104 non-null    int64  \n",
      " 4   scansWithoutRegistration   104 non-null    int64  \n",
      " 5   quantityModifications      104 non-null    int64  \n",
      " 6   scannedLineItemsPerSecond  104 non-null    float64\n",
      " 7   valuePerSecond             104 non-null    float64\n",
      " 8   lineItemVoidsPerPosition   104 non-null    float64\n",
      " 9   fraud                      104 non-null    int64  \n",
      "dtypes: float64(4), int64(6)\n",
      "memory usage: 8.9 KB\n"
     ]
    },
    {
     "data": {
      "text/html": [
       "<div>\n",
       "<style scoped>\n",
       "    .dataframe tbody tr th:only-of-type {\n",
       "        vertical-align: middle;\n",
       "    }\n",
       "\n",
       "    .dataframe tbody tr th {\n",
       "        vertical-align: top;\n",
       "    }\n",
       "\n",
       "    .dataframe thead th {\n",
       "        text-align: right;\n",
       "    }\n",
       "</style>\n",
       "<table border=\"1\" class=\"dataframe\">\n",
       "  <thead>\n",
       "    <tr style=\"text-align: right;\">\n",
       "      <th></th>\n",
       "      <th>trustLevel</th>\n",
       "      <th>totalScanTimeInSeconds</th>\n",
       "      <th>grandTotal</th>\n",
       "      <th>lineItemVoids</th>\n",
       "      <th>scansWithoutRegistration</th>\n",
       "      <th>quantityModifications</th>\n",
       "      <th>scannedLineItemsPerSecond</th>\n",
       "      <th>valuePerSecond</th>\n",
       "      <th>lineItemVoidsPerPosition</th>\n",
       "      <th>fraud</th>\n",
       "    </tr>\n",
       "  </thead>\n",
       "  <tbody>\n",
       "    <tr>\n",
       "      <th>5</th>\n",
       "      <td>1</td>\n",
       "      <td>770</td>\n",
       "      <td>11.09</td>\n",
       "      <td>11</td>\n",
       "      <td>5</td>\n",
       "      <td>2</td>\n",
       "      <td>0.033766</td>\n",
       "      <td>0.014403</td>\n",
       "      <td>0.423077</td>\n",
       "      <td>1</td>\n",
       "    </tr>\n",
       "    <tr>\n",
       "      <th>37</th>\n",
       "      <td>2</td>\n",
       "      <td>1397</td>\n",
       "      <td>62.59</td>\n",
       "      <td>7</td>\n",
       "      <td>9</td>\n",
       "      <td>4</td>\n",
       "      <td>0.017895</td>\n",
       "      <td>0.044803</td>\n",
       "      <td>0.280000</td>\n",
       "      <td>1</td>\n",
       "    </tr>\n",
       "    <tr>\n",
       "      <th>53</th>\n",
       "      <td>1</td>\n",
       "      <td>1385</td>\n",
       "      <td>34.68</td>\n",
       "      <td>5</td>\n",
       "      <td>8</td>\n",
       "      <td>4</td>\n",
       "      <td>0.019495</td>\n",
       "      <td>0.025040</td>\n",
       "      <td>0.185185</td>\n",
       "      <td>1</td>\n",
       "    </tr>\n",
       "    <tr>\n",
       "      <th>91</th>\n",
       "      <td>1</td>\n",
       "      <td>996</td>\n",
       "      <td>71.94</td>\n",
       "      <td>7</td>\n",
       "      <td>0</td>\n",
       "      <td>1</td>\n",
       "      <td>0.027108</td>\n",
       "      <td>0.072229</td>\n",
       "      <td>0.259259</td>\n",
       "      <td>1</td>\n",
       "    </tr>\n",
       "    <tr>\n",
       "      <th>97</th>\n",
       "      <td>2</td>\n",
       "      <td>1305</td>\n",
       "      <td>87.65</td>\n",
       "      <td>7</td>\n",
       "      <td>8</td>\n",
       "      <td>4</td>\n",
       "      <td>0.021456</td>\n",
       "      <td>0.067165</td>\n",
       "      <td>0.250000</td>\n",
       "      <td>1</td>\n",
       "    </tr>\n",
       "  </tbody>\n",
       "</table>\n",
       "</div>"
      ],
      "text/plain": [
       "    trustLevel  totalScanTimeInSeconds  grandTotal  lineItemVoids  \\\n",
       "5            1                     770       11.09             11   \n",
       "37           2                    1397       62.59              7   \n",
       "53           1                    1385       34.68              5   \n",
       "91           1                     996       71.94              7   \n",
       "97           2                    1305       87.65              7   \n",
       "\n",
       "    scansWithoutRegistration  quantityModifications  \\\n",
       "5                          5                      2   \n",
       "37                         9                      4   \n",
       "53                         8                      4   \n",
       "91                         0                      1   \n",
       "97                         8                      4   \n",
       "\n",
       "    scannedLineItemsPerSecond  valuePerSecond  lineItemVoidsPerPosition  fraud  \n",
       "5                    0.033766        0.014403                  0.423077      1  \n",
       "37                   0.017895        0.044803                  0.280000      1  \n",
       "53                   0.019495        0.025040                  0.185185      1  \n",
       "91                   0.027108        0.072229                  0.259259      1  \n",
       "97                   0.021456        0.067165                  0.250000      1  "
      ]
     },
     "execution_count": 6,
     "metadata": {},
     "output_type": "execute_result"
    }
   ],
   "source": [
    "dfFraud.info()\n",
    "dfFraud.head()"
   ]
  },
  {
   "cell_type": "code",
   "execution_count": 7,
   "id": "ec32f06a",
   "metadata": {
    "scrolled": true
   },
   "outputs": [
    {
     "data": {
      "text/plain": [
       "1    89\n",
       "2    15\n",
       "Name: trustLevel, dtype: int64"
      ]
     },
     "execution_count": 7,
     "metadata": {},
     "output_type": "execute_result"
    }
   ],
   "source": [
    "dfFraud.trustLevel.value_counts()"
   ]
  },
  {
   "cell_type": "markdown",
   "id": "66d247a9",
   "metadata": {},
   "source": [
    "# Kelas Target"
   ]
  },
  {
   "cell_type": "code",
   "execution_count": 8,
   "id": "57232279",
   "metadata": {},
   "outputs": [],
   "source": [
    "le = preprocessing.LabelEncoder()\n",
    "le.fit(df.fraud)\n",
    "Y = df.fraud \n",
    "X = df.drop(\"fraud\",axis=1)"
   ]
  },
  {
   "cell_type": "code",
   "execution_count": 9,
   "id": "dd426942",
   "metadata": {
    "scrolled": true
   },
   "outputs": [
    {
     "data": {
      "text/plain": [
       "[0, 1]"
      ]
     },
     "execution_count": 9,
     "metadata": {},
     "output_type": "execute_result"
    }
   ],
   "source": [
    "list(le.classes_)"
   ]
  },
  {
   "cell_type": "markdown",
   "id": "f1c2dabb",
   "metadata": {},
   "source": [
    "# Split Dataset"
   ]
  },
  {
   "cell_type": "code",
   "execution_count": 10,
   "id": "480adc04",
   "metadata": {},
   "outputs": [],
   "source": [
    "X_train,X_test,Y_train,Y_test=train_test_split(X,Y,test_size=0.2,random_state=123)\n",
    "\n",
    "\n",
    "with open('G:\\\\Datasets\\\\klasifikasi\\\\fraud_train_columns.pickle', 'wb') as fp:\n",
    "    pickle.dump(X_train.columns, fp)"
   ]
  },
  {
   "cell_type": "markdown",
   "id": "0952a4cc",
   "metadata": {},
   "source": [
    "# Gaussian NB"
   ]
  },
  {
   "cell_type": "code",
   "execution_count": 11,
   "id": "a303005b",
   "metadata": {},
   "outputs": [
    {
     "name": "stdout",
     "output_type": "stream",
     "text": [
      "Akurasi 0.8670212765957447\n",
      "              precision    recall  f1-score   support\n",
      "\n",
      "           0       1.00      0.86      0.93       361\n",
      "           1       0.23      1.00      0.38        15\n",
      "\n",
      "    accuracy                           0.87       376\n",
      "   macro avg       0.62      0.93      0.65       376\n",
      "weighted avg       0.97      0.87      0.90       376\n",
      "\n",
      "[[311  50]\n",
      " [  0  15]]\n"
     ]
    }
   ],
   "source": [
    "clf = GaussianNB()\n",
    "clf.fit(X_train, Y_train)\n",
    "Y_pred = clf.predict(X_test)\n",
    "acc = accuracy_score(Y_test, Y_pred)\n",
    "print(\"Akurasi {}\".format(acc))\n",
    "print(classification_report(Y_test, Y_pred))\n",
    "print(confusion_matrix(Y_test, Y_pred))"
   ]
  },
  {
   "cell_type": "code",
   "execution_count": 12,
   "id": "632b3a44",
   "metadata": {
    "scrolled": true
   },
   "outputs": [
    {
     "name": "stdout",
     "output_type": "stream",
     "text": [
      "              precision    recall  f1-score   support\n",
      "\n",
      "           0       1.00      0.82      0.90       592\n",
      "           1       0.23      0.94      0.38        35\n",
      "\n",
      "    accuracy                           0.82       627\n",
      "   macro avg       0.61      0.88      0.64       627\n",
      "weighted avg       0.95      0.82      0.87       627\n",
      "\n",
      "[[484 108]\n",
      " [  2  33]]\n",
      "              precision    recall  f1-score   support\n",
      "\n",
      "           0       1.00      0.83      0.91       592\n",
      "           1       0.25      0.94      0.39        34\n",
      "\n",
      "    accuracy                           0.84       626\n",
      "   macro avg       0.62      0.89      0.65       626\n",
      "weighted avg       0.96      0.84      0.88       626\n",
      "\n",
      "[[494  98]\n",
      " [  2  32]]\n",
      "              precision    recall  f1-score   support\n",
      "\n",
      "           0       1.00      0.84      0.91       591\n",
      "           1       0.27      1.00      0.42        35\n",
      "\n",
      "    accuracy                           0.85       626\n",
      "   macro avg       0.63      0.92      0.67       626\n",
      "weighted avg       0.96      0.85      0.88       626\n",
      "\n",
      "[[495  96]\n",
      " [  0  35]]\n",
      "[0.8245614  0.84025559 0.84664537]\n"
     ]
    }
   ],
   "source": [
    "def classification_report_with_accuracy_score(y_true, y_pred):    \n",
    "    print(classification_report(y_true, y_pred)) \n",
    "    print(confusion_matrix(y_true, y_pred))\n",
    "    return accuracy_score(y_true, y_pred) \n",
    "clf = GaussianNB()\n",
    "scores = cross_val_score(clf, X=X, y=Y, cv=3, scoring = make_scorer(classification_report_with_accuracy_score))\n",
    "print(scores)"
   ]
  },
  {
   "cell_type": "markdown",
   "id": "7a9bb322",
   "metadata": {},
   "source": [
    "# Decision tree"
   ]
  },
  {
   "cell_type": "code",
   "execution_count": 13,
   "id": "4e03722d",
   "metadata": {
    "scrolled": true
   },
   "outputs": [
    {
     "name": "stdout",
     "output_type": "stream",
     "text": [
      "Akurasi 0.9787234042553191\n",
      "              precision    recall  f1-score   support\n",
      "\n",
      "           0       0.99      0.99      0.99       361\n",
      "           1       0.77      0.67      0.71        15\n",
      "\n",
      "    accuracy                           0.98       376\n",
      "   macro avg       0.88      0.83      0.85       376\n",
      "weighted avg       0.98      0.98      0.98       376\n",
      "\n",
      "[[358   3]\n",
      " [  5  10]]\n"
     ]
    }
   ],
   "source": [
    "clf = tree.DecisionTreeClassifier()\n",
    "clf.fit(X_train, Y_train)\n",
    "Y_pred = clf.predict(X_test)\n",
    "acc = accuracy_score(Y_test, Y_pred)\n",
    "print(\"Akurasi {}\".format(acc))\n",
    "print(classification_report(Y_test, Y_pred))\n",
    "print(confusion_matrix(Y_test, Y_pred))"
   ]
  },
  {
   "cell_type": "code",
   "execution_count": 14,
   "id": "3c56b58f",
   "metadata": {},
   "outputs": [
    {
     "name": "stdout",
     "output_type": "stream",
     "text": [
      "                           importance\n",
      "scannedLineItemsPerSecond    0.251054\n",
      "totalScanTimeInSeconds       0.215100\n",
      "trustLevel                   0.196980\n",
      "lineItemVoids                0.088886\n",
      "lineItemVoidsPerPosition     0.082961\n",
      "grandTotal                   0.049077\n",
      "valuePerSecond               0.046552\n",
      "scansWithoutRegistration     0.042836\n",
      "quantityModifications        0.026555\n"
     ]
    }
   ],
   "source": [
    "feature_importances = pd.DataFrame(clf.feature_importances_,index = X_train.columns, columns=['importance']).sort_values('importance',ascending=False)\n",
    "\n",
    "print(feature_importances)"
   ]
  },
  {
   "cell_type": "code",
   "execution_count": 15,
   "id": "a85253bb",
   "metadata": {
    "scrolled": true
   },
   "outputs": [
    {
     "name": "stdout",
     "output_type": "stream",
     "text": [
      "              precision    recall  f1-score   support\n",
      "\n",
      "           0       0.98      0.98      0.98       592\n",
      "           1       0.71      0.63      0.67        35\n",
      "\n",
      "    accuracy                           0.96       627\n",
      "   macro avg       0.84      0.81      0.82       627\n",
      "weighted avg       0.96      0.96      0.96       627\n",
      "\n",
      "[[583   9]\n",
      " [ 13  22]]\n",
      "              precision    recall  f1-score   support\n",
      "\n",
      "           0       0.98      0.98      0.98       592\n",
      "           1       0.63      0.71      0.67        34\n",
      "\n",
      "    accuracy                           0.96       626\n",
      "   macro avg       0.81      0.84      0.82       626\n",
      "weighted avg       0.96      0.96      0.96       626\n",
      "\n",
      "[[578  14]\n",
      " [ 10  24]]\n",
      "              precision    recall  f1-score   support\n",
      "\n",
      "           0       0.97      0.98      0.98       591\n",
      "           1       0.65      0.49      0.56        35\n",
      "\n",
      "    accuracy                           0.96       626\n",
      "   macro avg       0.81      0.74      0.77       626\n",
      "weighted avg       0.95      0.96      0.95       626\n",
      "\n",
      "[[582   9]\n",
      " [ 18  17]]\n",
      "[0.96491228 0.96166134 0.95686901]\n"
     ]
    }
   ],
   "source": [
    "def classification_report_with_accuracy_score(y_true, y_pred):    \n",
    "    print(classification_report(y_true, y_pred)) \n",
    "    print(confusion_matrix(y_true, y_pred))\n",
    "    return accuracy_score(y_true, y_pred) \n",
    "clf = tree.DecisionTreeClassifier()\n",
    "scores = cross_val_score(clf, X=X, y=Y, cv=3, scoring = make_scorer(classification_report_with_accuracy_score))\n",
    "print(scores)\n"
   ]
  },
  {
   "cell_type": "markdown",
   "id": "cd258c9f",
   "metadata": {},
   "source": [
    "# Random forest"
   ]
  },
  {
   "cell_type": "code",
   "execution_count": 16,
   "id": "52aa7244",
   "metadata": {},
   "outputs": [
    {
     "name": "stdout",
     "output_type": "stream",
     "text": [
      "Akurasi 0.9867021276595744\n",
      "              precision    recall  f1-score   support\n",
      "\n",
      "           0       0.99      1.00      0.99       361\n",
      "           1       1.00      0.67      0.80        15\n",
      "\n",
      "    accuracy                           0.99       376\n",
      "   macro avg       0.99      0.83      0.90       376\n",
      "weighted avg       0.99      0.99      0.99       376\n",
      "\n",
      "[[361   0]\n",
      " [  5  10]]\n"
     ]
    }
   ],
   "source": [
    "clf = RandomForestClassifier(n_estimators=50, random_state=123)\n",
    "clf.fit(X_train, Y_train)\n",
    "Y_pred = clf.predict(X_test)\n",
    "acc = accuracy_score(Y_test, Y_pred)\n",
    "print(\"Akurasi {}\".format(acc))\n",
    "print(classification_report(Y_test, Y_pred))\n",
    "print(confusion_matrix(Y_test, Y_pred))\n"
   ]
  },
  {
   "cell_type": "code",
   "execution_count": 17,
   "id": "7bbbc62f",
   "metadata": {},
   "outputs": [
    {
     "name": "stdout",
     "output_type": "stream",
     "text": [
      "                           importance\n",
      "trustLevel                   0.275139\n",
      "totalScanTimeInSeconds       0.153191\n",
      "scannedLineItemsPerSecond    0.149126\n",
      "lineItemVoidsPerPosition     0.099001\n",
      "valuePerSecond               0.087869\n",
      "grandTotal                   0.081010\n",
      "lineItemVoids                0.072523\n",
      "scansWithoutRegistration     0.056474\n",
      "quantityModifications        0.025666\n"
     ]
    }
   ],
   "source": [
    "feature_importances = pd.DataFrame(clf.feature_importances_,index = X_train.columns, columns=['importance']).sort_values('importance',ascending=False)\n",
    "\n",
    "print(feature_importances)\n"
   ]
  },
  {
   "cell_type": "code",
   "execution_count": 18,
   "id": "f1b77f75",
   "metadata": {},
   "outputs": [
    {
     "name": "stdout",
     "output_type": "stream",
     "text": [
      "              precision    recall  f1-score   support\n",
      "\n",
      "           0       0.98      0.99      0.99       592\n",
      "           1       0.83      0.69      0.75        35\n",
      "\n",
      "    accuracy                           0.97       627\n",
      "   macro avg       0.90      0.84      0.87       627\n",
      "weighted avg       0.97      0.97      0.97       627\n",
      "\n",
      "[[587   5]\n",
      " [ 11  24]]\n",
      "              precision    recall  f1-score   support\n",
      "\n",
      "           0       0.99      1.00      0.99       592\n",
      "           1       0.96      0.76      0.85        34\n",
      "\n",
      "    accuracy                           0.99       626\n",
      "   macro avg       0.97      0.88      0.92       626\n",
      "weighted avg       0.99      0.99      0.98       626\n",
      "\n",
      "[[591   1]\n",
      " [  8  26]]\n",
      "              precision    recall  f1-score   support\n",
      "\n",
      "           0       0.96      1.00      0.98       591\n",
      "           1       0.92      0.34      0.50        35\n",
      "\n",
      "    accuracy                           0.96       626\n",
      "   macro avg       0.94      0.67      0.74       626\n",
      "weighted avg       0.96      0.96      0.95       626\n",
      "\n",
      "[[590   1]\n",
      " [ 23  12]]\n",
      "[0.97448166 0.985623   0.96166134]\n"
     ]
    }
   ],
   "source": [
    "def classification_report_with_accuracy_score(y_true, y_pred):    \n",
    "    print(classification_report(y_true, y_pred)) \n",
    "    print(confusion_matrix(y_true, y_pred))\n",
    "    return accuracy_score(y_true, y_pred) \n",
    "clf = RandomForestClassifier(n_estimators=50, random_state=123)\n",
    "scores = cross_val_score(clf, X=X, y=Y, cv=3, scoring = make_scorer(classification_report_with_accuracy_score))\n",
    "print(scores)\n"
   ]
  },
  {
   "cell_type": "markdown",
   "id": "4c298833",
   "metadata": {},
   "source": [
    "# XGBoost"
   ]
  },
  {
   "cell_type": "code",
   "execution_count": 19,
   "id": "c46759df",
   "metadata": {},
   "outputs": [
    {
     "name": "stdout",
     "output_type": "stream",
     "text": [
      "Akurasi 0.9920212765957447\n",
      "              precision    recall  f1-score   support\n",
      "\n",
      "           0       0.99      1.00      1.00       361\n",
      "           1       1.00      0.80      0.89        15\n",
      "\n",
      "    accuracy                           0.99       376\n",
      "   macro avg       1.00      0.90      0.94       376\n",
      "weighted avg       0.99      0.99      0.99       376\n",
      "\n"
     ]
    },
    {
     "name": "stderr",
     "output_type": "stream",
     "text": [
      "G:\\Anaconda\\lib\\site-packages\\xgboost\\sklearn.py:1224: UserWarning: The use of label encoder in XGBClassifier is deprecated and will be removed in a future release. To remove this warning, do the following: 1) Pass option use_label_encoder=False when constructing XGBClassifier object; and 2) Encode your labels (y) as integers starting with 0, i.e. 0, 1, 2, ..., [num_class - 1].\n",
      "  warnings.warn(label_encoder_deprecation_msg, UserWarning)\n"
     ]
    }
   ],
   "source": [
    "clf = xgb.XGBClassifier(objective = \"multi:softprob\", num_class = 4, eval_metric = \"mlogloss\", max_depth = 24, gamma=0.1, subsample = 0.90,learning_rate=0.01, n_estimators = 10, nthread=-1)\n",
    "clf.fit(X_train, Y_train)\n",
    "Y_pred = clf.predict(X_test)\n",
    "acc = accuracy_score(Y_test, Y_pred)\n",
    "print(\"Akurasi {}\".format(acc))\n",
    "print(classification_report(Y_test, Y_pred))"
   ]
  },
  {
   "cell_type": "code",
   "execution_count": 20,
   "id": "7674a95a",
   "metadata": {},
   "outputs": [
    {
     "name": "stdout",
     "output_type": "stream",
     "text": [
      "                           importance\n",
      "trustLevel                   0.414826\n",
      "scannedLineItemsPerSecond    0.132589\n",
      "totalScanTimeInSeconds       0.111765\n",
      "lineItemVoidsPerPosition     0.103356\n",
      "lineItemVoids                0.072808\n",
      "valuePerSecond               0.067117\n",
      "scansWithoutRegistration     0.045965\n",
      "grandTotal                   0.026483\n",
      "quantityModifications        0.025090\n"
     ]
    }
   ],
   "source": [
    "feature_importances = pd.DataFrame(clf.feature_importances_,index = X_train.columns, columns=['importance']).sort_values('importance',ascending=False)\n",
    "\n",
    "print(feature_importances)"
   ]
  },
  {
   "cell_type": "code",
   "execution_count": 21,
   "id": "b298e749",
   "metadata": {},
   "outputs": [
    {
     "name": "stdout",
     "output_type": "stream",
     "text": [
      "              precision    recall  f1-score   support\n",
      "\n",
      "           0       0.98      0.99      0.99       355\n",
      "           1       0.83      0.71      0.77        21\n",
      "\n",
      "    accuracy                           0.98       376\n",
      "   macro avg       0.91      0.85      0.88       376\n",
      "weighted avg       0.97      0.98      0.98       376\n",
      "\n",
      "[[352   3]\n",
      " [  6  15]]\n",
      "              precision    recall  f1-score   support\n",
      "\n",
      "           0       0.98      0.99      0.99       355\n",
      "           1       0.88      0.67      0.76        21\n",
      "\n",
      "    accuracy                           0.98       376\n",
      "   macro avg       0.93      0.83      0.87       376\n",
      "weighted avg       0.97      0.98      0.97       376\n",
      "\n",
      "[[353   2]\n",
      " [  7  14]]\n",
      "              precision    recall  f1-score   support\n",
      "\n",
      "           0       0.98      0.99      0.99       355\n",
      "           1       0.88      0.67      0.76        21\n",
      "\n",
      "    accuracy                           0.98       376\n",
      "   macro avg       0.93      0.83      0.87       376\n",
      "weighted avg       0.97      0.98      0.97       376\n",
      "\n"
     ]
    },
    {
     "name": "stderr",
     "output_type": "stream",
     "text": [
      "G:\\Anaconda\\lib\\site-packages\\xgboost\\sklearn.py:1224: UserWarning: The use of label encoder in XGBClassifier is deprecated and will be removed in a future release. To remove this warning, do the following: 1) Pass option use_label_encoder=False when constructing XGBClassifier object; and 2) Encode your labels (y) as integers starting with 0, i.e. 0, 1, 2, ..., [num_class - 1].\n",
      "  warnings.warn(label_encoder_deprecation_msg, UserWarning)\n",
      "G:\\Anaconda\\lib\\site-packages\\xgboost\\sklearn.py:1224: UserWarning: The use of label encoder in XGBClassifier is deprecated and will be removed in a future release. To remove this warning, do the following: 1) Pass option use_label_encoder=False when constructing XGBClassifier object; and 2) Encode your labels (y) as integers starting with 0, i.e. 0, 1, 2, ..., [num_class - 1].\n",
      "  warnings.warn(label_encoder_deprecation_msg, UserWarning)\n",
      "G:\\Anaconda\\lib\\site-packages\\xgboost\\sklearn.py:1224: UserWarning: The use of label encoder in XGBClassifier is deprecated and will be removed in a future release. To remove this warning, do the following: 1) Pass option use_label_encoder=False when constructing XGBClassifier object; and 2) Encode your labels (y) as integers starting with 0, i.e. 0, 1, 2, ..., [num_class - 1].\n",
      "  warnings.warn(label_encoder_deprecation_msg, UserWarning)\n"
     ]
    },
    {
     "name": "stdout",
     "output_type": "stream",
     "text": [
      "[[353   2]\n",
      " [  7  14]]\n",
      "              precision    recall  f1-score   support\n",
      "\n",
      "           0       0.98      0.99      0.98       355\n",
      "           1       0.80      0.57      0.67        21\n",
      "\n",
      "    accuracy                           0.97       376\n",
      "   macro avg       0.89      0.78      0.82       376\n",
      "weighted avg       0.97      0.97      0.97       376\n",
      "\n",
      "[[352   3]\n",
      " [  9  12]]\n",
      "              precision    recall  f1-score   support\n",
      "\n",
      "           0       0.97      0.99      0.98       355\n",
      "           1       0.77      0.50      0.61        20\n",
      "\n",
      "    accuracy                           0.97       375\n",
      "   macro avg       0.87      0.75      0.79       375\n",
      "weighted avg       0.96      0.97      0.96       375\n",
      "\n"
     ]
    },
    {
     "name": "stderr",
     "output_type": "stream",
     "text": [
      "G:\\Anaconda\\lib\\site-packages\\xgboost\\sklearn.py:1224: UserWarning: The use of label encoder in XGBClassifier is deprecated and will be removed in a future release. To remove this warning, do the following: 1) Pass option use_label_encoder=False when constructing XGBClassifier object; and 2) Encode your labels (y) as integers starting with 0, i.e. 0, 1, 2, ..., [num_class - 1].\n",
      "  warnings.warn(label_encoder_deprecation_msg, UserWarning)\n",
      "G:\\Anaconda\\lib\\site-packages\\xgboost\\sklearn.py:1224: UserWarning: The use of label encoder in XGBClassifier is deprecated and will be removed in a future release. To remove this warning, do the following: 1) Pass option use_label_encoder=False when constructing XGBClassifier object; and 2) Encode your labels (y) as integers starting with 0, i.e. 0, 1, 2, ..., [num_class - 1].\n",
      "  warnings.warn(label_encoder_deprecation_msg, UserWarning)\n"
     ]
    },
    {
     "name": "stdout",
     "output_type": "stream",
     "text": [
      "[[352   3]\n",
      " [ 10  10]]\n",
      "[0.97606383 0.97606383 0.97606383 0.96808511 0.96533333]\n"
     ]
    }
   ],
   "source": [
    "def classification_report_with_accuracy_score(y_true, y_pred):    \n",
    "    print(classification_report(y_true, y_pred)) \n",
    "    print(confusion_matrix(y_true, y_pred))\n",
    "    return accuracy_score(y_true, y_pred) \n",
    "clf = xgb.XGBClassifier(objective = \"multi:softprob\", num_class = 3, eval_metric = \"mlogloss\", max_depth = 24, gamma=0.1, subsample = 0.90,learning_rate=0.01, n_estimators = 10, nthread=-1)\n",
    "scores = cross_val_score(clf, X=X, y=Y, cv=5, scoring = make_scorer(classification_report_with_accuracy_score))\n",
    "print(scores)"
   ]
  }
 ],
 "metadata": {
  "kernelspec": {
   "display_name": "Python 3",
   "language": "python",
   "name": "python3"
  },
  "language_info": {
   "codemirror_mode": {
    "name": "ipython",
    "version": 3
   },
   "file_extension": ".py",
   "mimetype": "text/x-python",
   "name": "python",
   "nbconvert_exporter": "python",
   "pygments_lexer": "ipython3",
   "version": "3.8.8"
  }
 },
 "nbformat": 4,
 "nbformat_minor": 5
}
