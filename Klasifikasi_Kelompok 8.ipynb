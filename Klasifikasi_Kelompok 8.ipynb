{
 "cells": [
  {
   "cell_type": "markdown",
   "id": "f4908a47",
   "metadata": {},
   "source": [
    "## Tugas Klasifikasi Data Mining\n",
    "\n",
    "Kelompok 8 :\\\n",
    "Satria Pinandita Abyatarsyah - 2000514\\\n",
    "Sabian Annaya Havid - 2005021\\\n",
    "Irfan Mochamad Esa - 2005568\\\n",
    "Muhammad Firmansyah - 2010021"
   ]
  },
  {
   "cell_type": "code",
   "execution_count": 1,
   "id": "603e484d",
   "metadata": {},
   "outputs": [],
   "source": [
    "import pandas as pd\n",
    "\n",
    "#import library Scikit-learn\n",
    "from sklearn import preprocessing\n",
    "from sklearn.model_selection import train_test_split\n",
    "from sklearn.model_selection import cross_val_score\n",
    "from sklearn.metrics import classification_report, accuracy_score, make_scorer\n",
    "from sklearn.model_selection import cross_val_score\n",
    "from sklearn.metrics import confusion_matrix\n",
    "\n",
    "#import pickle\n",
    "import pickle\n",
    "\n",
    "#import library untuk masing-masing algoritma\n",
    "from sklearn.naive_bayes import GaussianNB\n",
    "\n",
    "from sklearn import tree\n",
    "\n",
    "from sklearn.ensemble import RandomForestClassifier\n",
    "\n",
    "import xgboost as xgb\n",
    "\n",
    "#import metrik yang dibutuhkan untuk cross validation\n",
    "from sklearn.metrics import classification_report\n",
    "from sklearn.metrics import accuracy_score"
   ]
  },
  {
   "cell_type": "markdown",
   "id": "154711aa",
   "metadata": {},
   "source": [
    "Read dataset train"
   ]
  },
  {
   "cell_type": "code",
   "execution_count": 2,
   "id": "d9edd3b4",
   "metadata": {},
   "outputs": [],
   "source": [
    "df = pd.read_csv(\"G:\\\\Datasets\\\\klasifikasi\\\\train.csv\", delimiter = \"|\")"
   ]
  },
  {
   "cell_type": "markdown",
   "id": "5a2fba92",
   "metadata": {},
   "source": [
    "# Tujuan"
   ]
  },
  {
   "cell_type": "markdown",
   "id": "ded3b18c",
   "metadata": {},
   "source": [
    "Memprediksi apakah customer melakukan transaksi fraud atau bukan"
   ]
  },
  {
   "cell_type": "markdown",
   "id": "a447d774",
   "metadata": {},
   "source": [
    "# Eksplorasi Data"
   ]
  },
  {
   "cell_type": "markdown",
   "id": "c9a4095b",
   "metadata": {},
   "source": [
    "Memeriksa info dari dataset untuk mengidentifikasi adanya data NULL"
   ]
  },
  {
   "cell_type": "code",
   "execution_count": 3,
   "id": "c481f697",
   "metadata": {},
   "outputs": [
    {
     "name": "stdout",
     "output_type": "stream",
     "text": [
      "<class 'pandas.core.frame.DataFrame'>\n",
      "RangeIndex: 1879 entries, 0 to 1878\n",
      "Data columns (total 10 columns):\n",
      " #   Column                     Non-Null Count  Dtype  \n",
      "---  ------                     --------------  -----  \n",
      " 0   trustLevel                 1879 non-null   int64  \n",
      " 1   totalScanTimeInSeconds     1879 non-null   int64  \n",
      " 2   grandTotal                 1879 non-null   float64\n",
      " 3   lineItemVoids              1879 non-null   int64  \n",
      " 4   scansWithoutRegistration   1879 non-null   int64  \n",
      " 5   quantityModifications      1879 non-null   int64  \n",
      " 6   scannedLineItemsPerSecond  1879 non-null   float64\n",
      " 7   valuePerSecond             1879 non-null   float64\n",
      " 8   lineItemVoidsPerPosition   1879 non-null   float64\n",
      " 9   fraud                      1879 non-null   int64  \n",
      "dtypes: float64(4), int64(6)\n",
      "memory usage: 146.9 KB\n"
     ]
    },
    {
     "data": {
      "text/html": [
       "<div>\n",
       "<style scoped>\n",
       "    .dataframe tbody tr th:only-of-type {\n",
       "        vertical-align: middle;\n",
       "    }\n",
       "\n",
       "    .dataframe tbody tr th {\n",
       "        vertical-align: top;\n",
       "    }\n",
       "\n",
       "    .dataframe thead th {\n",
       "        text-align: right;\n",
       "    }\n",
       "</style>\n",
       "<table border=\"1\" class=\"dataframe\">\n",
       "  <thead>\n",
       "    <tr style=\"text-align: right;\">\n",
       "      <th></th>\n",
       "      <th>trustLevel</th>\n",
       "      <th>totalScanTimeInSeconds</th>\n",
       "      <th>grandTotal</th>\n",
       "      <th>lineItemVoids</th>\n",
       "      <th>scansWithoutRegistration</th>\n",
       "      <th>quantityModifications</th>\n",
       "      <th>scannedLineItemsPerSecond</th>\n",
       "      <th>valuePerSecond</th>\n",
       "      <th>lineItemVoidsPerPosition</th>\n",
       "      <th>fraud</th>\n",
       "    </tr>\n",
       "  </thead>\n",
       "  <tbody>\n",
       "    <tr>\n",
       "      <th>0</th>\n",
       "      <td>5</td>\n",
       "      <td>1054</td>\n",
       "      <td>54.70</td>\n",
       "      <td>7</td>\n",
       "      <td>0</td>\n",
       "      <td>3</td>\n",
       "      <td>0.027514</td>\n",
       "      <td>0.051898</td>\n",
       "      <td>0.241379</td>\n",
       "      <td>0</td>\n",
       "    </tr>\n",
       "    <tr>\n",
       "      <th>1</th>\n",
       "      <td>3</td>\n",
       "      <td>108</td>\n",
       "      <td>27.36</td>\n",
       "      <td>5</td>\n",
       "      <td>2</td>\n",
       "      <td>4</td>\n",
       "      <td>0.129630</td>\n",
       "      <td>0.253333</td>\n",
       "      <td>0.357143</td>\n",
       "      <td>0</td>\n",
       "    </tr>\n",
       "    <tr>\n",
       "      <th>2</th>\n",
       "      <td>3</td>\n",
       "      <td>1516</td>\n",
       "      <td>62.16</td>\n",
       "      <td>3</td>\n",
       "      <td>10</td>\n",
       "      <td>5</td>\n",
       "      <td>0.008575</td>\n",
       "      <td>0.041003</td>\n",
       "      <td>0.230769</td>\n",
       "      <td>0</td>\n",
       "    </tr>\n",
       "    <tr>\n",
       "      <th>3</th>\n",
       "      <td>6</td>\n",
       "      <td>1791</td>\n",
       "      <td>92.31</td>\n",
       "      <td>8</td>\n",
       "      <td>4</td>\n",
       "      <td>4</td>\n",
       "      <td>0.016192</td>\n",
       "      <td>0.051541</td>\n",
       "      <td>0.275862</td>\n",
       "      <td>0</td>\n",
       "    </tr>\n",
       "    <tr>\n",
       "      <th>4</th>\n",
       "      <td>5</td>\n",
       "      <td>430</td>\n",
       "      <td>81.53</td>\n",
       "      <td>3</td>\n",
       "      <td>7</td>\n",
       "      <td>2</td>\n",
       "      <td>0.062791</td>\n",
       "      <td>0.189605</td>\n",
       "      <td>0.111111</td>\n",
       "      <td>0</td>\n",
       "    </tr>\n",
       "  </tbody>\n",
       "</table>\n",
       "</div>"
      ],
      "text/plain": [
       "   trustLevel  totalScanTimeInSeconds  grandTotal  lineItemVoids  \\\n",
       "0           5                    1054       54.70              7   \n",
       "1           3                     108       27.36              5   \n",
       "2           3                    1516       62.16              3   \n",
       "3           6                    1791       92.31              8   \n",
       "4           5                     430       81.53              3   \n",
       "\n",
       "   scansWithoutRegistration  quantityModifications  scannedLineItemsPerSecond  \\\n",
       "0                         0                      3                   0.027514   \n",
       "1                         2                      4                   0.129630   \n",
       "2                        10                      5                   0.008575   \n",
       "3                         4                      4                   0.016192   \n",
       "4                         7                      2                   0.062791   \n",
       "\n",
       "   valuePerSecond  lineItemVoidsPerPosition  fraud  \n",
       "0        0.051898                  0.241379      0  \n",
       "1        0.253333                  0.357143      0  \n",
       "2        0.041003                  0.230769      0  \n",
       "3        0.051541                  0.275862      0  \n",
       "4        0.189605                  0.111111      0  "
      ]
     },
     "execution_count": 3,
     "metadata": {},
     "output_type": "execute_result"
    }
   ],
   "source": [
    "df.info()\n",
    "df.head()"
   ]
  },
  {
   "cell_type": "markdown",
   "id": "08260019",
   "metadata": {},
   "source": [
    "Setelah diperiksa ternyata tidak ada data null di dataset"
   ]
  },
  {
   "cell_type": "markdown",
   "id": "0011a2fe",
   "metadata": {},
   "source": [
    "Selain itu, kami menyimpulkan bahwa semua atribut yang ada relevan dengan tujuan prediksi. Oleh karena itu tidak ada atribut yang di drop."
   ]
  },
  {
   "cell_type": "markdown",
   "id": "87bed445",
   "metadata": {},
   "source": [
    "=========================================================================="
   ]
  },
  {
   "cell_type": "markdown",
   "id": "cb68c129",
   "metadata": {},
   "source": [
    "Lalu kami mencari keterkaitan customer yang melakukan fraud dengan trust level mereka"
   ]
  },
  {
   "cell_type": "markdown",
   "id": "360e2a8d",
   "metadata": {},
   "source": [
    "Trust level adalah tingkat kepercayaan food retailer dengan seorang customer. Trust level adalah attribut yang paling berkaitan dengan apakah customer akan melakukan fraud. Ini akan dibuktikan dengan hasil pencarian feature importance di tiap metode klasifikasi."
   ]
  },
  {
   "cell_type": "code",
   "execution_count": 4,
   "id": "196f38b0",
   "metadata": {},
   "outputs": [
    {
     "data": {
      "text/plain": [
       "0    1775\n",
       "1     104\n",
       "Name: fraud, dtype: int64"
      ]
     },
     "execution_count": 4,
     "metadata": {},
     "output_type": "execute_result"
    }
   ],
   "source": [
    "# Isi dan jumlah elemen dalam attribut fraud.\n",
    "#0 = bukan fraud\n",
    "#1 = fraud\n",
    "\n",
    "df.fraud.value_counts().sort_index()"
   ]
  },
  {
   "cell_type": "code",
   "execution_count": 5,
   "id": "b2e3f28a",
   "metadata": {},
   "outputs": [
    {
     "data": {
      "text/plain": [
       "1    332\n",
       "2    347\n",
       "3    318\n",
       "4    289\n",
       "5    302\n",
       "6    291\n",
       "Name: trustLevel, dtype: int64"
      ]
     },
     "execution_count": 5,
     "metadata": {},
     "output_type": "execute_result"
    }
   ],
   "source": [
    "# Isi dan jumlah elemen dalam attribut trust level\n",
    "# Level trust dengan range 1 sampai 6\n",
    "\n",
    "df.trustLevel.value_counts().sort_index()"
   ]
  },
  {
   "cell_type": "markdown",
   "id": "7b7f2b1c",
   "metadata": {},
   "source": [
    "Lalu kami menyaring dataset untuk hanya menampilkan data yang fraud saja untuk melihat trust level berapa saja yang melakukan fraud."
   ]
  },
  {
   "cell_type": "code",
   "execution_count": 6,
   "id": "b69754a8",
   "metadata": {},
   "outputs": [],
   "source": [
    "dfFraud = df[df.fraud==1]"
   ]
  },
  {
   "cell_type": "markdown",
   "id": "2845f35e",
   "metadata": {},
   "source": [
    "Ternyata pelanggan yang melakukan fraud memiliki trust level yang rendah (1 dan 2 dari 6)"
   ]
  },
  {
   "cell_type": "code",
   "execution_count": 7,
   "id": "ec32f06a",
   "metadata": {
    "scrolled": true
   },
   "outputs": [
    {
     "data": {
      "text/plain": [
       "1    89\n",
       "2    15\n",
       "Name: trustLevel, dtype: int64"
      ]
     },
     "execution_count": 7,
     "metadata": {},
     "output_type": "execute_result"
    }
   ],
   "source": [
    "dfFraud.trustLevel.value_counts()"
   ]
  },
  {
   "cell_type": "markdown",
   "id": "66d247a9",
   "metadata": {},
   "source": [
    "# Kelas Target"
   ]
  },
  {
   "cell_type": "markdown",
   "id": "2cf06199",
   "metadata": {},
   "source": [
    "Menyimpan isi atribut fraud ke Y dan selain fraud ke X untuk nantinya displit."
   ]
  },
  {
   "cell_type": "code",
   "execution_count": 8,
   "id": "57232279",
   "metadata": {},
   "outputs": [],
   "source": [
    "Y = df.fraud \n",
    "X = df.drop(\"fraud\",axis=1)"
   ]
  },
  {
   "cell_type": "markdown",
   "id": "f1c2dabb",
   "metadata": {},
   "source": [
    "# Split Dataset"
   ]
  },
  {
   "cell_type": "markdown",
   "id": "a1ff828d",
   "metadata": {},
   "source": [
    "Membagi X dan Y menjadi train dan test untuk nantinya digunakan dalam proses klasifikasi."
   ]
  },
  {
   "cell_type": "code",
   "execution_count": 9,
   "id": "480adc04",
   "metadata": {},
   "outputs": [],
   "source": [
    "X_train,X_test,Y_train,Y_test=train_test_split(X,Y,test_size=0.2,random_state=123)"
   ]
  },
  {
   "cell_type": "markdown",
   "id": "9dd8a99c",
   "metadata": {},
   "source": [
    "# Prediksi menggunakan berbagai algoritma"
   ]
  },
  {
   "cell_type": "markdown",
   "id": "0952a4cc",
   "metadata": {},
   "source": [
    "### Gaussian Naive Bayes"
   ]
  },
  {
   "cell_type": "markdown",
   "id": "512eed21",
   "metadata": {},
   "source": [
    "Memanggil algoritma Gaussian Naive Bayes"
   ]
  },
  {
   "cell_type": "code",
   "execution_count": 10,
   "id": "a303005b",
   "metadata": {
    "scrolled": false
   },
   "outputs": [
    {
     "name": "stdout",
     "output_type": "stream",
     "text": [
      "Akurasi 0.8670212765957447\n",
      "              precision    recall  f1-score   support\n",
      "\n",
      "           0       1.00      0.86      0.93       361\n",
      "           1       0.23      1.00      0.38        15\n",
      "\n",
      "    accuracy                           0.87       376\n",
      "   macro avg       0.62      0.93      0.65       376\n",
      "weighted avg       0.97      0.87      0.90       376\n",
      "\n",
      "[[311  50]\n",
      " [  0  15]]\n"
     ]
    }
   ],
   "source": [
    "clf = GaussianNB()\n",
    "clf.fit(X_train, Y_train)\n",
    "Y_pred = clf.predict(X_test)\n",
    "acc = accuracy_score(Y_test, Y_pred)\n",
    "precv_gnb=acc\n",
    "print(\"Akurasi {}\".format(acc))\n",
    "print(classification_report(Y_test, Y_pred))\n",
    "print(confusion_matrix(Y_test, Y_pred))"
   ]
  },
  {
   "cell_type": "markdown",
   "id": "dea57b2a",
   "metadata": {},
   "source": [
    "Gaussian NB mengasumsi tidak ada keterkaitan antar atribut, maka feature importance tidak dapat dicari"
   ]
  },
  {
   "cell_type": "markdown",
   "id": "a41061f1",
   "metadata": {},
   "source": [
    "Gaussian NB menggunakan cross validation 3-fold"
   ]
  },
  {
   "cell_type": "code",
   "execution_count": 11,
   "id": "632b3a44",
   "metadata": {
    "scrolled": true
   },
   "outputs": [
    {
     "name": "stdout",
     "output_type": "stream",
     "text": [
      "              precision    recall  f1-score   support\n",
      "\n",
      "           0       1.00      0.82      0.90       592\n",
      "           1       0.23      0.94      0.38        35\n",
      "\n",
      "    accuracy                           0.82       627\n",
      "   macro avg       0.61      0.88      0.64       627\n",
      "weighted avg       0.95      0.82      0.87       627\n",
      "\n",
      "[[484 108]\n",
      " [  2  33]]\n",
      "              precision    recall  f1-score   support\n",
      "\n",
      "           0       1.00      0.83      0.91       592\n",
      "           1       0.25      0.94      0.39        34\n",
      "\n",
      "    accuracy                           0.84       626\n",
      "   macro avg       0.62      0.89      0.65       626\n",
      "weighted avg       0.96      0.84      0.88       626\n",
      "\n",
      "[[494  98]\n",
      " [  2  32]]\n",
      "              precision    recall  f1-score   support\n",
      "\n",
      "           0       1.00      0.84      0.91       591\n",
      "           1       0.27      1.00      0.42        35\n",
      "\n",
      "    accuracy                           0.85       626\n",
      "   macro avg       0.63      0.92      0.67       626\n",
      "weighted avg       0.96      0.85      0.88       626\n",
      "\n",
      "[[495  96]\n",
      " [  0  35]]\n",
      "[0.8245614  0.84025559 0.84664537]\n"
     ]
    }
   ],
   "source": [
    "def classification_report_with_accuracy_score(y_true, y_pred):    \n",
    "    print(classification_report(y_true, y_pred)) \n",
    "    print(confusion_matrix(y_true, y_pred))\n",
    "    return accuracy_score(y_true, y_pred) \n",
    "clf = GaussianNB()\n",
    "scores = cross_val_score(clf, X=X, y=Y, cv=3, scoring = make_scorer(classification_report_with_accuracy_score))\n",
    "score_gnb = scores\n",
    "print(scores)"
   ]
  },
  {
   "cell_type": "markdown",
   "id": "7a9bb322",
   "metadata": {},
   "source": [
    "### Decision tree"
   ]
  },
  {
   "cell_type": "markdown",
   "id": "a4839407",
   "metadata": {},
   "source": [
    "Memanggil algoritma Decision tree"
   ]
  },
  {
   "cell_type": "code",
   "execution_count": 12,
   "id": "4e03722d",
   "metadata": {
    "scrolled": true
   },
   "outputs": [
    {
     "name": "stdout",
     "output_type": "stream",
     "text": [
      "Akurasi 0.976063829787234\n",
      "              precision    recall  f1-score   support\n",
      "\n",
      "           0       0.98      0.99      0.99       361\n",
      "           1       0.75      0.60      0.67        15\n",
      "\n",
      "    accuracy                           0.98       376\n",
      "   macro avg       0.87      0.80      0.83       376\n",
      "weighted avg       0.97      0.98      0.97       376\n",
      "\n",
      "[[358   3]\n",
      " [  6   9]]\n"
     ]
    }
   ],
   "source": [
    "clf = tree.DecisionTreeClassifier()\n",
    "clf.fit(X_train, Y_train)\n",
    "Y_pred = clf.predict(X_test)\n",
    "acc = accuracy_score(Y_test, Y_pred)\n",
    "precv_dt=acc\n",
    "print(\"Akurasi {}\".format(acc))\n",
    "print(classification_report(Y_test, Y_pred))\n",
    "print(confusion_matrix(Y_test, Y_pred))"
   ]
  },
  {
   "cell_type": "markdown",
   "id": "4cf03662",
   "metadata": {},
   "source": [
    "Mencari attribut yang terpenting dalam mencari fraud"
   ]
  },
  {
   "cell_type": "code",
   "execution_count": 13,
   "id": "3c56b58f",
   "metadata": {},
   "outputs": [
    {
     "name": "stdout",
     "output_type": "stream",
     "text": [
      "                           importance\n",
      "scannedLineItemsPerSecond    0.242006\n",
      "totalScanTimeInSeconds       0.213417\n",
      "trustLevel                   0.196980\n",
      "lineItemVoids                0.093555\n",
      "lineItemVoidsPerPosition     0.088933\n",
      "valuePerSecond               0.055376\n",
      "scansWithoutRegistration     0.048808\n",
      "grandTotal                   0.036163\n",
      "quantityModifications        0.024763\n"
     ]
    }
   ],
   "source": [
    "feature_importances = pd.DataFrame(clf.feature_importances_,index = X_train.columns, columns=['importance']).sort_values('importance',ascending=False)\n",
    "\n",
    "print(feature_importances)"
   ]
  },
  {
   "cell_type": "markdown",
   "id": "18dc8d79",
   "metadata": {},
   "source": [
    "Attribut diatas telah terurut dari yang paling penting dalam menentukan fraud atau tidaknya transaksi"
   ]
  },
  {
   "cell_type": "markdown",
   "id": "a80b60eb",
   "metadata": {},
   "source": [
    "Decision tree menggunakan cross validation 3-fold"
   ]
  },
  {
   "cell_type": "code",
   "execution_count": 14,
   "id": "a85253bb",
   "metadata": {
    "scrolled": true
   },
   "outputs": [
    {
     "name": "stdout",
     "output_type": "stream",
     "text": [
      "              precision    recall  f1-score   support\n",
      "\n",
      "           0       0.98      0.98      0.98       592\n",
      "           1       0.72      0.66      0.69        35\n",
      "\n",
      "    accuracy                           0.97       627\n",
      "   macro avg       0.85      0.82      0.83       627\n",
      "weighted avg       0.97      0.97      0.97       627\n",
      "\n",
      "[[583   9]\n",
      " [ 12  23]]\n",
      "              precision    recall  f1-score   support\n",
      "\n",
      "           0       0.98      0.98      0.98       592\n",
      "           1       0.64      0.74      0.68        34\n",
      "\n",
      "    accuracy                           0.96       626\n",
      "   macro avg       0.81      0.86      0.83       626\n",
      "weighted avg       0.97      0.96      0.96       626\n",
      "\n",
      "[[578  14]\n",
      " [  9  25]]\n",
      "              precision    recall  f1-score   support\n",
      "\n",
      "           0       0.97      0.99      0.98       591\n",
      "           1       0.69      0.51      0.59        35\n",
      "\n",
      "    accuracy                           0.96       626\n",
      "   macro avg       0.83      0.75      0.78       626\n",
      "weighted avg       0.96      0.96      0.96       626\n",
      "\n",
      "[[583   8]\n",
      " [ 17  18]]\n",
      "[0.96650718 0.96325879 0.9600639 ]\n"
     ]
    }
   ],
   "source": [
    "def classification_report_with_accuracy_score(y_true, y_pred):    \n",
    "    print(classification_report(y_true, y_pred)) \n",
    "    print(confusion_matrix(y_true, y_pred))\n",
    "    return accuracy_score(y_true, y_pred) \n",
    "clf = tree.DecisionTreeClassifier()\n",
    "scores = cross_val_score(clf, X=X, y=Y, cv=3, scoring = make_scorer(classification_report_with_accuracy_score))\n",
    "score_dt=scores\n",
    "print(scores)\n"
   ]
  },
  {
   "cell_type": "markdown",
   "id": "cd258c9f",
   "metadata": {},
   "source": [
    "### Random forest"
   ]
  },
  {
   "cell_type": "markdown",
   "id": "efbb9bac",
   "metadata": {},
   "source": [
    "Memanggil algoritma Random forest"
   ]
  },
  {
   "cell_type": "code",
   "execution_count": 15,
   "id": "52aa7244",
   "metadata": {},
   "outputs": [
    {
     "name": "stdout",
     "output_type": "stream",
     "text": [
      "Akurasi 0.9867021276595744\n",
      "              precision    recall  f1-score   support\n",
      "\n",
      "           0       0.99      1.00      0.99       361\n",
      "           1       1.00      0.67      0.80        15\n",
      "\n",
      "    accuracy                           0.99       376\n",
      "   macro avg       0.99      0.83      0.90       376\n",
      "weighted avg       0.99      0.99      0.99       376\n",
      "\n",
      "[[361   0]\n",
      " [  5  10]]\n"
     ]
    }
   ],
   "source": [
    "clf = RandomForestClassifier(n_estimators=50, random_state=123)\n",
    "clf.fit(X_train, Y_train)\n",
    "Y_pred = clf.predict(X_test)\n",
    "acc = accuracy_score(Y_test, Y_pred)\n",
    "precv_rf=acc\n",
    "print(\"Akurasi {}\".format(acc))\n",
    "print(classification_report(Y_test, Y_pred))\n",
    "print(confusion_matrix(Y_test, Y_pred))\n"
   ]
  },
  {
   "cell_type": "code",
   "execution_count": 16,
   "id": "7bbbc62f",
   "metadata": {},
   "outputs": [
    {
     "name": "stdout",
     "output_type": "stream",
     "text": [
      "                           importance\n",
      "trustLevel                   0.275139\n",
      "totalScanTimeInSeconds       0.153191\n",
      "scannedLineItemsPerSecond    0.149126\n",
      "lineItemVoidsPerPosition     0.099001\n",
      "valuePerSecond               0.087869\n",
      "grandTotal                   0.081010\n",
      "lineItemVoids                0.072523\n",
      "scansWithoutRegistration     0.056474\n",
      "quantityModifications        0.025666\n"
     ]
    }
   ],
   "source": [
    "feature_importances = pd.DataFrame(clf.feature_importances_,index = X_train.columns, columns=['importance']).sort_values('importance',ascending=False)\n",
    "\n",
    "print(feature_importances)\n"
   ]
  },
  {
   "cell_type": "markdown",
   "id": "c5b3fae1",
   "metadata": {},
   "source": [
    "Random forest menggunakan cross validation 3-fold"
   ]
  },
  {
   "cell_type": "code",
   "execution_count": 17,
   "id": "f1b77f75",
   "metadata": {},
   "outputs": [
    {
     "name": "stdout",
     "output_type": "stream",
     "text": [
      "              precision    recall  f1-score   support\n",
      "\n",
      "           0       0.98      0.99      0.99       592\n",
      "           1       0.83      0.69      0.75        35\n",
      "\n",
      "    accuracy                           0.97       627\n",
      "   macro avg       0.90      0.84      0.87       627\n",
      "weighted avg       0.97      0.97      0.97       627\n",
      "\n",
      "[[587   5]\n",
      " [ 11  24]]\n",
      "              precision    recall  f1-score   support\n",
      "\n",
      "           0       0.99      1.00      0.99       592\n",
      "           1       0.96      0.76      0.85        34\n",
      "\n",
      "    accuracy                           0.99       626\n",
      "   macro avg       0.97      0.88      0.92       626\n",
      "weighted avg       0.99      0.99      0.98       626\n",
      "\n",
      "[[591   1]\n",
      " [  8  26]]\n",
      "              precision    recall  f1-score   support\n",
      "\n",
      "           0       0.96      1.00      0.98       591\n",
      "           1       0.92      0.34      0.50        35\n",
      "\n",
      "    accuracy                           0.96       626\n",
      "   macro avg       0.94      0.67      0.74       626\n",
      "weighted avg       0.96      0.96      0.95       626\n",
      "\n",
      "[[590   1]\n",
      " [ 23  12]]\n",
      "[0.97448166 0.985623   0.96166134]\n"
     ]
    }
   ],
   "source": [
    "def classification_report_with_accuracy_score(y_true, y_pred):    \n",
    "    print(classification_report(y_true, y_pred)) \n",
    "    print(confusion_matrix(y_true, y_pred))\n",
    "    return accuracy_score(y_true, y_pred) \n",
    "clf = RandomForestClassifier(n_estimators=50, random_state=123)\n",
    "scores = cross_val_score(clf, X=X, y=Y, cv=3, scoring = make_scorer(classification_report_with_accuracy_score))\n",
    "score_rf=scores\n",
    "print(scores)\n"
   ]
  },
  {
   "cell_type": "markdown",
   "id": "4c298833",
   "metadata": {},
   "source": [
    "### XGBoost"
   ]
  },
  {
   "cell_type": "code",
   "execution_count": 18,
   "id": "c46759df",
   "metadata": {
    "scrolled": true
   },
   "outputs": [
    {
     "name": "stdout",
     "output_type": "stream",
     "text": [
      "Akurasi 0.9920212765957447\n",
      "              precision    recall  f1-score   support\n",
      "\n",
      "           0       0.99      1.00      1.00       361\n",
      "           1       1.00      0.80      0.89        15\n",
      "\n",
      "    accuracy                           0.99       376\n",
      "   macro avg       1.00      0.90      0.94       376\n",
      "weighted avg       0.99      0.99      0.99       376\n",
      "\n"
     ]
    }
   ],
   "source": [
    "clf = xgb.XGBClassifier(objective = \"multi:softprob\", num_class = 4, eval_metric = \"mlogloss\", max_depth = 24, gamma=0.1, subsample = 0.90,learning_rate=0.01, n_estimators = 10, nthread=-1, use_label_encoder=False)\n",
    "clf.fit(X_train, Y_train)\n",
    "Y_pred = clf.predict(X_test)\n",
    "acc = accuracy_score(Y_test, Y_pred)\n",
    "precv_xgb=acc\n",
    "print(\"Akurasi {}\".format(acc))\n",
    "print(classification_report(Y_test, Y_pred))"
   ]
  },
  {
   "cell_type": "code",
   "execution_count": 19,
   "id": "7674a95a",
   "metadata": {},
   "outputs": [
    {
     "name": "stdout",
     "output_type": "stream",
     "text": [
      "                           importance\n",
      "trustLevel                   0.414826\n",
      "scannedLineItemsPerSecond    0.132589\n",
      "totalScanTimeInSeconds       0.111765\n",
      "lineItemVoidsPerPosition     0.103356\n",
      "lineItemVoids                0.072808\n",
      "valuePerSecond               0.067117\n",
      "scansWithoutRegistration     0.045965\n",
      "grandTotal                   0.026483\n",
      "quantityModifications        0.025090\n"
     ]
    }
   ],
   "source": [
    "feature_importances = pd.DataFrame(clf.feature_importances_,index = X_train.columns, columns=['importance']).sort_values('importance',ascending=False)\n",
    "\n",
    "print(feature_importances)"
   ]
  },
  {
   "cell_type": "markdown",
   "id": "baeb390f",
   "metadata": {},
   "source": [
    "XGboost menggunakan cross validation 3-fold"
   ]
  },
  {
   "cell_type": "code",
   "execution_count": 20,
   "id": "b298e749",
   "metadata": {},
   "outputs": [
    {
     "name": "stdout",
     "output_type": "stream",
     "text": [
      "              precision    recall  f1-score   support\n",
      "\n",
      "           0       0.98      0.99      0.99       592\n",
      "           1       0.80      0.69      0.74        35\n",
      "\n",
      "    accuracy                           0.97       627\n",
      "   macro avg       0.89      0.84      0.86       627\n",
      "weighted avg       0.97      0.97      0.97       627\n",
      "\n",
      "[[586   6]\n",
      " [ 11  24]]\n",
      "              precision    recall  f1-score   support\n",
      "\n",
      "           0       0.98      0.98      0.98       592\n",
      "           1       0.74      0.74      0.74        34\n",
      "\n",
      "    accuracy                           0.97       626\n",
      "   macro avg       0.86      0.86      0.86       626\n",
      "weighted avg       0.97      0.97      0.97       626\n",
      "\n",
      "[[583   9]\n",
      " [  9  25]]\n",
      "              precision    recall  f1-score   support\n",
      "\n",
      "           0       0.98      0.99      0.98       591\n",
      "           1       0.72      0.60      0.66        35\n",
      "\n",
      "    accuracy                           0.96       626\n",
      "   macro avg       0.85      0.79      0.82       626\n",
      "weighted avg       0.96      0.96      0.96       626\n",
      "\n",
      "[[583   8]\n",
      " [ 14  21]]\n",
      "[0.97288676 0.97124601 0.96485623]\n"
     ]
    }
   ],
   "source": [
    "def classification_report_with_accuracy_score(y_true, y_pred):    \n",
    "    print(classification_report(y_true, y_pred)) \n",
    "    print(confusion_matrix(y_true, y_pred))\n",
    "    return accuracy_score(y_true, y_pred) \n",
    "clf = xgb.XGBClassifier(objective = \"multi:softprob\", num_class = 3, eval_metric = \"mlogloss\", max_depth = 24, gamma=0.1, subsample = 0.90,learning_rate=0.01, n_estimators = 10, nthread=-1, use_label_encoder=False)\n",
    "scores = cross_val_score(clf, X=X, y=Y, cv=3, scoring = make_scorer(classification_report_with_accuracy_score))\n",
    "score_xgb=scores\n",
    "print(scores)"
   ]
  },
  {
   "cell_type": "markdown",
   "id": "86f0e32b",
   "metadata": {},
   "source": [
    "# Perbandingan tingkat akurasi tiap algoritma"
   ]
  },
  {
   "cell_type": "markdown",
   "id": "83510e6c",
   "metadata": {},
   "source": [
    "Akurasi tiap algoritma"
   ]
  },
  {
   "cell_type": "code",
   "execution_count": 21,
   "id": "f84571ad",
   "metadata": {},
   "outputs": [
    {
     "name": "stdout",
     "output_type": "stream",
     "text": [
      "0.8670212765957447\n",
      "0.976063829787234\n",
      "0.9867021276595744\n",
      "0.9920212765957447\n"
     ]
    }
   ],
   "source": [
    "print(precv_gnb)\n",
    "print(precv_dt)\n",
    "print(precv_rf)\n",
    "print(precv_xgb)"
   ]
  },
  {
   "cell_type": "markdown",
   "id": "597c21e3",
   "metadata": {},
   "source": [
    "Akurasi tiap algoritma setelah menggunakan cross validation 3 fold"
   ]
  },
  {
   "cell_type": "code",
   "execution_count": 22,
   "id": "f9b75b8f",
   "metadata": {},
   "outputs": [
    {
     "name": "stdout",
     "output_type": "stream",
     "text": [
      "[0.8245614  0.84025559 0.84664537]\n",
      "[0.96650718 0.96325879 0.9600639 ]\n",
      "[0.97448166 0.985623   0.96166134]\n",
      "[0.97288676 0.97124601 0.96485623]\n"
     ]
    }
   ],
   "source": [
    "print(score_gnb)\n",
    "print(score_dt)\n",
    "print(score_rf)\n",
    "print(score_xgb)"
   ]
  },
  {
   "cell_type": "markdown",
   "id": "66bcec98",
   "metadata": {},
   "source": [
    "# Kesimpulan"
   ]
  },
  {
   "cell_type": "markdown",
   "id": "9fb5ea51",
   "metadata": {},
   "source": [
    "Untuk permasalahan memprediksi transaksi fraud. Berdasarkan hasil akurasi diatas,  sebelum menggunakan cross validation tampaknya terlihat bahwa algoritma XGBoost mendapatkan akurasi tertinggi lalu akurasi terkecil didapat oleh algoritma Gaussian NB."
   ]
  },
  {
   "cell_type": "markdown",
   "id": "8b224112",
   "metadata": {},
   "source": [
    "Setelah melakukan cross validation, Random forest memiliki tingkat akurasi setingkat atau sedikit melebihi XGBoost. Akurasi terkecil didapat oleh Gaussian NB."
   ]
  }
 ],
 "metadata": {
  "kernelspec": {
   "display_name": "Python 3",
   "language": "python",
   "name": "python3"
  },
  "language_info": {
   "codemirror_mode": {
    "name": "ipython",
    "version": 3
   },
   "file_extension": ".py",
   "mimetype": "text/x-python",
   "name": "python",
   "nbconvert_exporter": "python",
   "pygments_lexer": "ipython3",
   "version": "3.8.8"
  }
 },
 "nbformat": 4,
 "nbformat_minor": 5
}
